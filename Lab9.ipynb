{
 "cells": [
  {
   "cell_type": "markdown",
   "id": "d0a9a7f3",
   "metadata": {},
   "source": [
    "<a href='https://www.darshan.ac.in/'> <img src='https://www.darshan.ac.in/Content/media/DU_Logo.svg' width=\"250\" height=\"300\"/></a>\n",
    "<pre>\n",
    "<center><b><h1>Machine Learning - 2301CS621</b></center>\n",
    "\n",
    "<center><b><h1>Lab - 9 </b></center>\n",
    "<center><b><h5>K-means, K-Medoids</b></center>\n",
    "<pre>    "
   ]
  },
  {
   "cell_type": "markdown",
   "id": "9729828e",
   "metadata": {},
   "source": [
    "# Step 1: Import Libraries"
   ]
  },
  {
   "cell_type": "code",
   "execution_count": 1,
   "id": "27c337bd",
   "metadata": {},
   "outputs": [],
   "source": []
  },
  {
   "cell_type": "markdown",
   "id": "a74d8141",
   "metadata": {},
   "source": [
    "# Step 2: Load the Dataset\n",
    "Load Given dataset -  StudentsPerformance.csv"
   ]
  },
  {
   "cell_type": "code",
   "execution_count": null,
   "id": "e021fe38",
   "metadata": {},
   "outputs": [],
   "source": []
  },
  {
   "cell_type": "code",
   "execution_count": null,
   "id": "24092f3e",
   "metadata": {},
   "outputs": [],
   "source": []
  },
  {
   "cell_type": "markdown",
   "id": "5cd8327e",
   "metadata": {},
   "source": [
    "# Step 3: Data Overview\n",
    "In this step, we examine the dataset structure, summary statistics, and check for missing values."
   ]
  },
  {
   "cell_type": "code",
   "execution_count": null,
   "id": "4cb8cfd4",
   "metadata": {},
   "outputs": [],
   "source": []
  },
  {
   "cell_type": "markdown",
   "id": "47dd2a85",
   "metadata": {},
   "source": [
    "# Step 4: Display PairPlot"
   ]
  },
  {
   "cell_type": "code",
   "execution_count": null,
   "id": "758c6a4f",
   "metadata": {},
   "outputs": [],
   "source": []
  },
  {
   "cell_type": "markdown",
   "id": "8f9fd2aa",
   "metadata": {},
   "source": [
    "# Step 5: Correlation heatmap"
   ]
  },
  {
   "cell_type": "code",
   "execution_count": null,
   "id": "be45e5bf",
   "metadata": {},
   "outputs": [],
   "source": []
  },
  {
   "cell_type": "markdown",
   "id": "c5e3608b",
   "metadata": {},
   "source": [
    "# Step 6: Distribution of numerical features"
   ]
  },
  {
   "cell_type": "code",
   "execution_count": null,
   "id": "bc8d12c6",
   "metadata": {},
   "outputs": [],
   "source": []
  },
  {
   "cell_type": "markdown",
   "id": "ef7c9909",
   "metadata": {},
   "source": [
    "# Step 7: Apply StandardScaler"
   ]
  },
  {
   "cell_type": "code",
   "execution_count": null,
   "id": "d2db5542",
   "metadata": {},
   "outputs": [],
   "source": []
  },
  {
   "cell_type": "markdown",
   "id": "6d60d3cf",
   "metadata": {},
   "source": [
    "# Step 8: Elbow method to find optimal k"
   ]
  },
  {
   "cell_type": "code",
   "execution_count": null,
   "id": "3b896d62",
   "metadata": {},
   "outputs": [],
   "source": []
  },
  {
   "cell_type": "markdown",
   "id": "fcd46dd0",
   "metadata": {},
   "source": [
    "# Step 9:Based on the elbow plot, choose an appropriate k value (e.g., k=3)"
   ]
  },
  {
   "cell_type": "code",
   "execution_count": null,
   "id": "1e3c587d",
   "metadata": {},
   "outputs": [],
   "source": []
  },
  {
   "cell_type": "markdown",
   "id": "21b6dc75",
   "metadata": {},
   "source": [
    "# Step 10: Print Cluster Center"
   ]
  },
  {
   "cell_type": "code",
   "execution_count": null,
   "id": "cfdf1263",
   "metadata": {},
   "outputs": [],
   "source": []
  },
  {
   "cell_type": "markdown",
   "id": "0ac6242c",
   "metadata": {},
   "source": [
    "# Step 11: Plot Cluster"
   ]
  },
  {
   "cell_type": "code",
   "execution_count": null,
   "id": "c1e4ec1e",
   "metadata": {},
   "outputs": [],
   "source": []
  },
  {
   "cell_type": "markdown",
   "id": "8978a0d3",
   "metadata": {},
   "source": [
    "# Step 12:Analyze clusters "
   ]
  },
  {
   "cell_type": "code",
   "execution_count": null,
   "id": "cbdb3d1d",
   "metadata": {},
   "outputs": [],
   "source": []
  },
  {
   "cell_type": "code",
   "execution_count": null,
   "id": "bc182624",
   "metadata": {},
   "outputs": [],
   "source": []
  },
  {
   "cell_type": "markdown",
   "id": "5ae0a3d1",
   "metadata": {},
   "source": [
    "# Step 13: Perform K-Medoids"
   ]
  },
  {
   "cell_type": "code",
   "execution_count": null,
   "id": "c0a90a44",
   "metadata": {},
   "outputs": [],
   "source": []
  },
  {
   "cell_type": "code",
   "execution_count": null,
   "id": "3ae431d9",
   "metadata": {},
   "outputs": [],
   "source": []
  },
  {
   "cell_type": "markdown",
   "id": "e37de25e",
   "metadata": {},
   "source": [
    "# Step:14 Comparison of K-means and K-medoids Clusters"
   ]
  },
  {
   "cell_type": "code",
   "execution_count": null,
   "id": "4862b147",
   "metadata": {},
   "outputs": [],
   "source": []
  },
  {
   "cell_type": "markdown",
   "id": "1f8ed542",
   "metadata": {},
   "source": [
    "# Step: 15 Implement K- Means with Library\n",
    "# Sample data points\n",
    "data = [\n",
    "    [1, 2], [2, 3], [3, 4],\n",
    "    [10, 11], [11, 12], [12, 13],\n",
    "    [50, 51], [51, 52], [52, 53]\n",
    "]"
   ]
  },
  {
   "cell_type": "code",
   "execution_count": null,
   "id": "943472f0",
   "metadata": {},
   "outputs": [],
   "source": []
  },
  {
   "cell_type": "code",
   "execution_count": null,
   "id": "3e0f5170",
   "metadata": {},
   "outputs": [],
   "source": []
  },
  {
   "cell_type": "code",
   "execution_count": null,
   "id": "aaeec81d",
   "metadata": {},
   "outputs": [],
   "source": []
  }
 ],
 "metadata": {
  "kernelspec": {
   "display_name": "Python 3 (ipykernel)",
   "language": "python",
   "name": "python3"
  },
  "language_info": {
   "codemirror_mode": {
    "name": "ipython",
    "version": 3
   },
   "file_extension": ".py",
   "mimetype": "text/x-python",
   "name": "python",
   "nbconvert_exporter": "python",
   "pygments_lexer": "ipython3",
   "version": "3.9.13"
  }
 },
 "nbformat": 4,
 "nbformat_minor": 5
}
